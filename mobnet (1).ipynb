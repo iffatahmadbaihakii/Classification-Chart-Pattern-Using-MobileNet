{
  "nbformat": 4,
  "nbformat_minor": 0,
  "metadata": {
    "colab": {
      "provenance": [],
      "collapsed_sections": []
    },
    "kernelspec": {
      "name": "python3",
      "display_name": "Python 3"
    },
    "language_info": {
      "name": "python"
    },
    "accelerator": "GPU"
  },
  "cells": [
    {
      "cell_type": "code",
      "source": [
        "from google.colab import drive\n",
        "drive.mount('/content/drive')"
      ],
      "metadata": {
        "colab": {
          "base_uri": "https://localhost:8080/"
        },
        "id": "BvlbFKgHA630",
        "outputId": "ea3ac66d-108d-4608-9608-a4569c092445"
      },
      "execution_count": null,
      "outputs": [
        {
          "output_type": "stream",
          "name": "stdout",
          "text": [
            "Drive already mounted at /content/drive; to attempt to forcibly remount, call drive.mount(\"/content/drive\", force_remount=True).\n"
          ]
        }
      ]
    },
    {
      "cell_type": "code",
      "source": [
        "from PIL import Image\n",
        "import numpy as np\n",
        "import os\n",
        "from imutils import paths"
      ],
      "metadata": {
        "id": "cbN3L7sFA9LZ"
      },
      "execution_count": null,
      "outputs": []
    },
    {
      "cell_type": "code",
      "source": [
        "image_paths=paths.list_images(\"/content/drive/MyDrive/Dokumentasi revisi\")"
      ],
      "metadata": {
        "id": "Lkr-J31oA9jZ"
      },
      "execution_count": null,
      "outputs": []
    },
    {
      "cell_type": "code",
      "execution_count": null,
      "metadata": {
        "id": "ekfbo84o-_Q1"
      },
      "outputs": [],
      "source": [
        "import numpy as np\n",
        "import tensorflow as tf\n",
        "from tensorflow import keras\n",
        "from keras.models import load_model\n",
        "from tensorflow.keras.models import Sequential\n",
        "from tensorflow.keras.layers import Dense, Activation\n",
        "from tensorflow.keras.optimizers import Adam, RMSprop, SGD, Adadelta, Adamax, Nadam, Adagrad\n",
        "from tensorflow.keras.metrics import categorical_crossentropy\n",
        "from tensorflow.keras.preprocessing.image import ImageDataGenerator\n",
        "from tensorflow.keras.preprocessing import image\n",
        "from tensorflow.keras.models import Model\n",
        "from tensorflow.keras.applications import imagenet_utils\n",
        "from sklearn.metrics import confusion_matrix, classification_report\n",
        "import itertools\n",
        "import os\n",
        "import shutil\n",
        "import random\n",
        "import matplotlib.pyplot as plt\n",
        "import pandas as pd \n",
        "\n",
        "%matplotlib inline"
      ]
    },
    {
      "cell_type": "code",
      "source": [
        "train_path = '/content/drive/MyDrive/Dokumentasi revisi/Dataset652510revisi/train'\n",
        "val_path = '/content/drive/MyDrive/Dokumentasi revisi/Dataset652510revisi/val'\n",
        "test_path = '/content/drive/MyDrive/Dokumentasi revisi/Dataset652510revisi/test'"
      ],
      "metadata": {
        "id": "9-uiF1w1_nmb"
      },
      "execution_count": null,
      "outputs": []
    },
    {
      "cell_type": "code",
      "source": [
        "train_batches = ImageDataGenerator(preprocessing_function=keras.applications.mobilenet.preprocess_input) \\\n",
        "    .flow_from_directory(directory=train_path, target_size=(224,224), classes=['DoubleBottomTrainSet', 'DoubleTopTrainSet','HeadandShoulderTrainSet','InvertedHeadandShoulderTrainSet'], batch_size=16)\n",
        "val_batches = ImageDataGenerator(preprocessing_function=keras.applications.mobilenet.preprocess_input) \\\n",
        "    .flow_from_directory(directory=val_path, target_size=(224,224), classes=['DoubleBottomValset', 'DoubletopValSet','HeadandShoulderValSet','InvertedHeadandShoulderValSet'], batch_size=16)    \n",
        "test_batches = ImageDataGenerator(preprocessing_function=keras.applications.mobilenet.preprocess_input) \\\n",
        "    .flow_from_directory(directory=test_path, target_size=(224,224), classes=['DoubleBottomTestSet', 'DoubleTopTestSet','HeadandShoulderTestSet','InvertedHeadandShoulderTestSet'], batch_size=16, shuffle=False)"
      ],
      "metadata": {
        "id": "TV0vTtH7_qSL",
        "colab": {
          "base_uri": "https://localhost:8080/"
        },
        "outputId": "8eaa7041-91f3-444c-fefe-3be6d55bf524"
      },
      "execution_count": null,
      "outputs": [
        {
          "output_type": "stream",
          "name": "stdout",
          "text": [
            "Found 520 images belonging to 4 classes.\n",
            "Found 100 images belonging to 4 classes.\n",
            "Found 80 images belonging to 4 classes.\n"
          ]
        }
      ]
    },
    {
      "cell_type": "code",
      "source": [
        "imgs, labels = next(train_batches)\n",
        "print(labels)  "
      ],
      "metadata": {
        "colab": {
          "base_uri": "https://localhost:8080/"
        },
        "id": "f4UeFF9wK55A",
        "outputId": "404fa60e-faae-415c-f7df-3548cb8ac605"
      },
      "execution_count": null,
      "outputs": [
        {
          "output_type": "stream",
          "name": "stdout",
          "text": [
            "[[0. 0. 0. 1.]\n",
            " [0. 0. 0. 1.]\n",
            " [0. 0. 1. 0.]\n",
            " [0. 1. 0. 0.]\n",
            " [0. 0. 0. 1.]\n",
            " [1. 0. 0. 0.]\n",
            " [0. 0. 1. 0.]\n",
            " [0. 0. 1. 0.]\n",
            " [0. 1. 0. 0.]\n",
            " [0. 0. 1. 0.]\n",
            " [0. 0. 1. 0.]\n",
            " [0. 0. 0. 1.]\n",
            " [0. 0. 1. 0.]\n",
            " [0. 0. 0. 1.]\n",
            " [1. 0. 0. 0.]\n",
            " [0. 1. 0. 0.]]\n"
          ]
        }
      ]
    },
    {
      "cell_type": "code",
      "source": [
        "chart = train_batches.class_indices.keys()\n",
        "df = pd.DataFrame(chart)\n",
        "print(df)"
      ],
      "metadata": {
        "colab": {
          "base_uri": "https://localhost:8080/"
        },
        "id": "WWk6A4udo_qW",
        "outputId": "b26b5215-ebbd-49d9-ad80-385bf841ae68"
      },
      "execution_count": null,
      "outputs": [
        {
          "output_type": "stream",
          "name": "stdout",
          "text": [
            "                                 0\n",
            "0             DoubleBottomTrainSet\n",
            "1                DoubleTopTrainSet\n",
            "2          HeadandShoulderTrainSet\n",
            "3  InvertedHeadandShoulderTrainSet\n"
          ]
        }
      ]
    },
    {
      "cell_type": "code",
      "source": [
        "base_model = keras.applications.MobileNet(weights=\"imagenet\",include_top=False,input_shape=(224,224,3))"
      ],
      "metadata": {
        "id": "eK3PSG-V_vwP",
        "colab": {
          "base_uri": "https://localhost:8080/"
        },
        "outputId": "c4933ec4-864b-4a0b-9821-3b1a9598df9a"
      },
      "execution_count": null,
      "outputs": [
        {
          "output_type": "stream",
          "name": "stdout",
          "text": [
            "Downloading data from https://storage.googleapis.com/tensorflow/keras-applications/mobilenet/mobilenet_1_0_224_tf_no_top.h5\n",
            "17227776/17225924 [==============================] - 0s 0us/step\n",
            "17235968/17225924 [==============================] - 0s 0us/step\n"
          ]
        }
      ]
    },
    {
      "cell_type": "code",
      "source": [
        "base_model.trainable = False\n",
        "inputs = keras.Input(shape=(224,224,3))\n",
        "x = base_model(inputs,training=False)\n",
        "x = keras.layers.GlobalAveragePooling2D()(x)\n",
        "x = keras.layers.Dropout(0.2)(x)\n",
        "x = keras.layers.Dense(4,activation=\"softmax\")(x)\n",
        "model = keras.Model(inputs=inputs, outputs=x, name=\"ChartPattern_MobileNet\")\n",
        "model.summary()"
      ],
      "metadata": {
        "id": "UgM5WY30_yFm",
        "colab": {
          "base_uri": "https://localhost:8080/"
        },
        "outputId": "5fac2756-d6a9-4633-9e4e-d6ee1b6f456f"
      },
      "execution_count": null,
      "outputs": [
        {
          "output_type": "stream",
          "name": "stdout",
          "text": [
            "Model: \"ChartPattern_MobileNet\"\n",
            "_________________________________________________________________\n",
            " Layer (type)                Output Shape              Param #   \n",
            "=================================================================\n",
            " input_2 (InputLayer)        [(None, 224, 224, 3)]     0         \n",
            "                                                                 \n",
            " mobilenet_1.00_224 (Functio  (None, 7, 7, 1024)       3228864   \n",
            " nal)                                                            \n",
            "                                                                 \n",
            " global_average_pooling2d (G  (None, 1024)             0         \n",
            " lobalAveragePooling2D)                                          \n",
            "                                                                 \n",
            " dropout (Dropout)           (None, 1024)              0         \n",
            "                                                                 \n",
            " dense (Dense)               (None, 4)                 4100      \n",
            "                                                                 \n",
            "=================================================================\n",
            "Total params: 3,232,964\n",
            "Trainable params: 4,100\n",
            "Non-trainable params: 3,228,864\n",
            "_________________________________________________________________\n"
          ]
        }
      ]
    },
    {
      "cell_type": "code",
      "source": [
        "model.compile(optimizer=Adam(learning_rate=0.001), loss='categorical_crossentropy', metrics=['accuracy'])"
      ],
      "metadata": {
        "id": "joI0AF0H_0h9"
      },
      "execution_count": null,
      "outputs": []
    },
    {
      "cell_type": "code",
      "source": [
        "hist=model.fit(x = train_batches, \n",
        "          steps_per_epoch = len(train_batches),\n",
        "          epochs = 100,\n",
        "          validation_data = val_batches,\n",
        "          validation_steps = len(val_batches),\n",
        "          verbose = 1\n",
        "         )"
      ],
      "metadata": {
        "id": "eBCD3Kez_1-q",
        "colab": {
          "base_uri": "https://localhost:8080/"
        },
        "outputId": "23778928-07c0-4e32-bfc9-87ec968851e3"
      },
      "execution_count": null,
      "outputs": [
        {
          "output_type": "stream",
          "name": "stdout",
          "text": [
            "Epoch 1/100\n",
            "33/33 [==============================] - 317s 9s/step - loss: 1.4619 - accuracy: 0.3404 - val_loss: 1.3043 - val_accuracy: 0.4200\n",
            "Epoch 2/100\n",
            "33/33 [==============================] - 2s 63ms/step - loss: 1.0911 - accuracy: 0.5058 - val_loss: 0.8302 - val_accuracy: 0.7200\n",
            "Epoch 3/100\n",
            "33/33 [==============================] - 2s 63ms/step - loss: 0.8502 - accuracy: 0.6635 - val_loss: 0.9046 - val_accuracy: 0.6500\n",
            "Epoch 4/100\n",
            "33/33 [==============================] - 2s 63ms/step - loss: 0.7821 - accuracy: 0.6962 - val_loss: 0.9412 - val_accuracy: 0.6300\n",
            "Epoch 5/100\n",
            "33/33 [==============================] - 2s 63ms/step - loss: 0.7092 - accuracy: 0.7269 - val_loss: 0.6651 - val_accuracy: 0.7600\n",
            "Epoch 6/100\n",
            "33/33 [==============================] - 2s 63ms/step - loss: 0.6113 - accuracy: 0.7635 - val_loss: 0.5948 - val_accuracy: 0.8100\n",
            "Epoch 7/100\n",
            "33/33 [==============================] - 2s 64ms/step - loss: 0.5708 - accuracy: 0.7712 - val_loss: 0.5555 - val_accuracy: 0.8400\n",
            "Epoch 8/100\n",
            "33/33 [==============================] - 2s 63ms/step - loss: 0.5074 - accuracy: 0.8096 - val_loss: 0.5019 - val_accuracy: 0.8700\n",
            "Epoch 9/100\n",
            "33/33 [==============================] - 2s 64ms/step - loss: 0.4918 - accuracy: 0.8327 - val_loss: 0.7514 - val_accuracy: 0.6800\n",
            "Epoch 10/100\n",
            "33/33 [==============================] - 2s 64ms/step - loss: 0.5004 - accuracy: 0.8212 - val_loss: 0.5254 - val_accuracy: 0.8300\n",
            "Epoch 11/100\n",
            "33/33 [==============================] - 2s 64ms/step - loss: 0.4505 - accuracy: 0.8308 - val_loss: 0.5293 - val_accuracy: 0.8200\n",
            "Epoch 12/100\n",
            "33/33 [==============================] - 2s 65ms/step - loss: 0.4074 - accuracy: 0.8558 - val_loss: 0.4506 - val_accuracy: 0.8800\n",
            "Epoch 13/100\n",
            "33/33 [==============================] - 2s 64ms/step - loss: 0.3919 - accuracy: 0.8692 - val_loss: 0.4738 - val_accuracy: 0.8500\n",
            "Epoch 14/100\n",
            "33/33 [==============================] - 2s 63ms/step - loss: 0.3690 - accuracy: 0.8885 - val_loss: 0.4010 - val_accuracy: 0.8600\n",
            "Epoch 15/100\n",
            "33/33 [==============================] - 2s 65ms/step - loss: 0.3487 - accuracy: 0.8827 - val_loss: 0.4361 - val_accuracy: 0.8800\n",
            "Epoch 16/100\n",
            "33/33 [==============================] - 2s 64ms/step - loss: 0.3230 - accuracy: 0.9019 - val_loss: 0.3759 - val_accuracy: 0.9000\n",
            "Epoch 17/100\n",
            "33/33 [==============================] - 2s 66ms/step - loss: 0.3161 - accuracy: 0.9077 - val_loss: 0.4329 - val_accuracy: 0.8700\n",
            "Epoch 18/100\n",
            "33/33 [==============================] - 2s 75ms/step - loss: 0.3266 - accuracy: 0.8846 - val_loss: 0.3801 - val_accuracy: 0.9100\n",
            "Epoch 19/100\n",
            "33/33 [==============================] - 2s 75ms/step - loss: 0.3047 - accuracy: 0.9038 - val_loss: 0.3385 - val_accuracy: 0.9100\n",
            "Epoch 20/100\n",
            "33/33 [==============================] - 2s 65ms/step - loss: 0.3051 - accuracy: 0.9135 - val_loss: 0.3433 - val_accuracy: 0.9200\n",
            "Epoch 21/100\n",
            "33/33 [==============================] - 2s 66ms/step - loss: 0.2917 - accuracy: 0.9154 - val_loss: 0.2790 - val_accuracy: 0.9600\n",
            "Epoch 22/100\n",
            "33/33 [==============================] - 2s 65ms/step - loss: 0.2783 - accuracy: 0.9135 - val_loss: 0.2743 - val_accuracy: 0.9600\n",
            "Epoch 23/100\n",
            "33/33 [==============================] - 2s 65ms/step - loss: 0.2682 - accuracy: 0.9212 - val_loss: 0.3738 - val_accuracy: 0.8700\n",
            "Epoch 24/100\n",
            "33/33 [==============================] - 2s 66ms/step - loss: 0.2309 - accuracy: 0.9404 - val_loss: 0.3573 - val_accuracy: 0.8700\n",
            "Epoch 25/100\n",
            "33/33 [==============================] - 2s 65ms/step - loss: 0.2266 - accuracy: 0.9442 - val_loss: 0.2909 - val_accuracy: 0.9400\n",
            "Epoch 26/100\n",
            "33/33 [==============================] - 2s 66ms/step - loss: 0.2161 - accuracy: 0.9519 - val_loss: 0.2659 - val_accuracy: 0.9700\n",
            "Epoch 27/100\n",
            "33/33 [==============================] - 2s 65ms/step - loss: 0.2118 - accuracy: 0.9462 - val_loss: 0.2492 - val_accuracy: 0.9600\n",
            "Epoch 28/100\n",
            "33/33 [==============================] - 2s 66ms/step - loss: 0.2283 - accuracy: 0.9288 - val_loss: 0.2370 - val_accuracy: 0.9600\n",
            "Epoch 29/100\n",
            "33/33 [==============================] - 2s 65ms/step - loss: 0.2200 - accuracy: 0.9327 - val_loss: 0.2302 - val_accuracy: 0.9500\n",
            "Epoch 30/100\n",
            "33/33 [==============================] - 2s 65ms/step - loss: 0.1883 - accuracy: 0.9596 - val_loss: 0.2185 - val_accuracy: 0.9600\n",
            "Epoch 31/100\n",
            "33/33 [==============================] - 2s 67ms/step - loss: 0.1959 - accuracy: 0.9519 - val_loss: 0.2767 - val_accuracy: 0.9500\n",
            "Epoch 32/100\n",
            "33/33 [==============================] - 2s 65ms/step - loss: 0.1892 - accuracy: 0.9596 - val_loss: 0.1999 - val_accuracy: 0.9700\n",
            "Epoch 33/100\n",
            "33/33 [==============================] - 2s 66ms/step - loss: 0.1831 - accuracy: 0.9596 - val_loss: 0.1888 - val_accuracy: 0.9700\n",
            "Epoch 34/100\n",
            "33/33 [==============================] - 2s 66ms/step - loss: 0.2073 - accuracy: 0.9404 - val_loss: 0.2200 - val_accuracy: 0.9600\n",
            "Epoch 35/100\n",
            "33/33 [==============================] - 2s 64ms/step - loss: 0.1827 - accuracy: 0.9577 - val_loss: 0.2545 - val_accuracy: 0.9600\n",
            "Epoch 36/100\n",
            "33/33 [==============================] - 2s 65ms/step - loss: 0.1626 - accuracy: 0.9712 - val_loss: 0.2486 - val_accuracy: 0.9400\n",
            "Epoch 37/100\n",
            "33/33 [==============================] - 2s 64ms/step - loss: 0.1780 - accuracy: 0.9500 - val_loss: 0.2303 - val_accuracy: 0.9600\n",
            "Epoch 38/100\n",
            "33/33 [==============================] - 2s 65ms/step - loss: 0.1688 - accuracy: 0.9577 - val_loss: 0.2441 - val_accuracy: 0.9600\n",
            "Epoch 39/100\n",
            "33/33 [==============================] - 2s 65ms/step - loss: 0.1655 - accuracy: 0.9635 - val_loss: 0.2490 - val_accuracy: 0.9700\n",
            "Epoch 40/100\n",
            "33/33 [==============================] - 2s 65ms/step - loss: 0.1764 - accuracy: 0.9519 - val_loss: 0.1936 - val_accuracy: 0.9700\n",
            "Epoch 41/100\n",
            "33/33 [==============================] - 2s 65ms/step - loss: 0.1367 - accuracy: 0.9750 - val_loss: 0.2482 - val_accuracy: 0.9600\n",
            "Epoch 42/100\n",
            "33/33 [==============================] - 2s 66ms/step - loss: 0.1539 - accuracy: 0.9558 - val_loss: 0.2266 - val_accuracy: 0.9700\n",
            "Epoch 43/100\n",
            "33/33 [==============================] - 2s 64ms/step - loss: 0.1591 - accuracy: 0.9596 - val_loss: 0.1982 - val_accuracy: 0.9800\n",
            "Epoch 44/100\n",
            "33/33 [==============================] - 2s 65ms/step - loss: 0.1489 - accuracy: 0.9635 - val_loss: 0.2315 - val_accuracy: 0.9500\n",
            "Epoch 45/100\n",
            "33/33 [==============================] - 2s 66ms/step - loss: 0.1420 - accuracy: 0.9635 - val_loss: 0.2729 - val_accuracy: 0.9000\n",
            "Epoch 46/100\n",
            "33/33 [==============================] - 2s 64ms/step - loss: 0.1589 - accuracy: 0.9654 - val_loss: 0.1962 - val_accuracy: 0.9800\n",
            "Epoch 47/100\n",
            "33/33 [==============================] - 2s 65ms/step - loss: 0.1392 - accuracy: 0.9654 - val_loss: 0.1485 - val_accuracy: 0.9800\n",
            "Epoch 48/100\n",
            "33/33 [==============================] - 2s 64ms/step - loss: 0.1355 - accuracy: 0.9673 - val_loss: 0.2042 - val_accuracy: 0.9600\n",
            "Epoch 49/100\n",
            "33/33 [==============================] - 2s 64ms/step - loss: 0.1374 - accuracy: 0.9692 - val_loss: 0.2070 - val_accuracy: 0.9700\n",
            "Epoch 50/100\n",
            "33/33 [==============================] - 2s 64ms/step - loss: 0.1338 - accuracy: 0.9654 - val_loss: 0.2334 - val_accuracy: 0.9100\n",
            "Epoch 51/100\n",
            "33/33 [==============================] - 2s 65ms/step - loss: 0.1310 - accuracy: 0.9769 - val_loss: 0.2340 - val_accuracy: 0.9400\n",
            "Epoch 52/100\n",
            "33/33 [==============================] - 2s 65ms/step - loss: 0.1391 - accuracy: 0.9654 - val_loss: 0.1460 - val_accuracy: 0.9900\n",
            "Epoch 53/100\n",
            "33/33 [==============================] - 2s 63ms/step - loss: 0.1153 - accuracy: 0.9788 - val_loss: 0.1742 - val_accuracy: 0.9700\n",
            "Epoch 54/100\n",
            "33/33 [==============================] - 2s 65ms/step - loss: 0.1212 - accuracy: 0.9673 - val_loss: 0.1359 - val_accuracy: 0.9900\n",
            "Epoch 55/100\n",
            "33/33 [==============================] - 2s 67ms/step - loss: 0.1160 - accuracy: 0.9788 - val_loss: 0.1296 - val_accuracy: 0.9700\n",
            "Epoch 56/100\n",
            "33/33 [==============================] - 2s 65ms/step - loss: 0.1220 - accuracy: 0.9750 - val_loss: 0.1580 - val_accuracy: 0.9900\n",
            "Epoch 57/100\n",
            "33/33 [==============================] - 2s 63ms/step - loss: 0.1164 - accuracy: 0.9750 - val_loss: 0.2259 - val_accuracy: 0.9300\n",
            "Epoch 58/100\n",
            "33/33 [==============================] - 2s 66ms/step - loss: 0.1037 - accuracy: 0.9827 - val_loss: 0.1426 - val_accuracy: 0.9900\n",
            "Epoch 59/100\n",
            "33/33 [==============================] - 2s 65ms/step - loss: 0.1176 - accuracy: 0.9769 - val_loss: 0.2215 - val_accuracy: 0.9300\n",
            "Epoch 60/100\n",
            "33/33 [==============================] - 2s 65ms/step - loss: 0.1191 - accuracy: 0.9692 - val_loss: 0.1771 - val_accuracy: 0.9800\n",
            "Epoch 61/100\n",
            "33/33 [==============================] - 2s 65ms/step - loss: 0.1142 - accuracy: 0.9788 - val_loss: 0.1714 - val_accuracy: 0.9800\n",
            "Epoch 62/100\n",
            "33/33 [==============================] - 2s 65ms/step - loss: 0.1236 - accuracy: 0.9692 - val_loss: 0.2323 - val_accuracy: 0.9100\n",
            "Epoch 63/100\n",
            "33/33 [==============================] - 2s 64ms/step - loss: 0.1041 - accuracy: 0.9808 - val_loss: 0.1691 - val_accuracy: 0.9800\n",
            "Epoch 64/100\n",
            "33/33 [==============================] - 2s 65ms/step - loss: 0.1119 - accuracy: 0.9731 - val_loss: 0.1672 - val_accuracy: 0.9800\n",
            "Epoch 65/100\n",
            "33/33 [==============================] - 2s 66ms/step - loss: 0.1010 - accuracy: 0.9731 - val_loss: 0.1975 - val_accuracy: 0.9600\n",
            "Epoch 66/100\n",
            "33/33 [==============================] - 2s 65ms/step - loss: 0.0974 - accuracy: 0.9885 - val_loss: 0.1497 - val_accuracy: 0.9900\n",
            "Epoch 67/100\n",
            "33/33 [==============================] - 2s 65ms/step - loss: 0.0884 - accuracy: 0.9827 - val_loss: 0.1689 - val_accuracy: 0.9700\n",
            "Epoch 68/100\n",
            "33/33 [==============================] - 2s 65ms/step - loss: 0.0972 - accuracy: 0.9827 - val_loss: 0.1300 - val_accuracy: 0.9900\n",
            "Epoch 69/100\n",
            "33/33 [==============================] - 2s 65ms/step - loss: 0.0887 - accuracy: 0.9865 - val_loss: 0.1585 - val_accuracy: 0.9500\n",
            "Epoch 70/100\n",
            "33/33 [==============================] - 2s 66ms/step - loss: 0.0988 - accuracy: 0.9865 - val_loss: 0.1159 - val_accuracy: 0.9900\n",
            "Epoch 71/100\n",
            "33/33 [==============================] - 2s 64ms/step - loss: 0.0866 - accuracy: 0.9865 - val_loss: 0.1699 - val_accuracy: 0.9800\n",
            "Epoch 72/100\n",
            "33/33 [==============================] - 2s 65ms/step - loss: 0.0966 - accuracy: 0.9827 - val_loss: 0.1451 - val_accuracy: 0.9900\n",
            "Epoch 73/100\n",
            "33/33 [==============================] - 2s 64ms/step - loss: 0.0942 - accuracy: 0.9846 - val_loss: 0.1443 - val_accuracy: 0.9900\n",
            "Epoch 74/100\n",
            "33/33 [==============================] - 2s 63ms/step - loss: 0.0835 - accuracy: 0.9885 - val_loss: 0.1130 - val_accuracy: 0.9900\n",
            "Epoch 75/100\n",
            "33/33 [==============================] - 2s 64ms/step - loss: 0.0846 - accuracy: 0.9865 - val_loss: 0.1625 - val_accuracy: 0.9900\n",
            "Epoch 76/100\n",
            "33/33 [==============================] - 2s 64ms/step - loss: 0.0818 - accuracy: 0.9865 - val_loss: 0.1662 - val_accuracy: 0.9800\n",
            "Epoch 77/100\n",
            "33/33 [==============================] - 2s 64ms/step - loss: 0.0921 - accuracy: 0.9885 - val_loss: 0.1728 - val_accuracy: 0.9600\n",
            "Epoch 78/100\n",
            "33/33 [==============================] - 2s 63ms/step - loss: 0.0822 - accuracy: 0.9865 - val_loss: 0.1593 - val_accuracy: 0.9700\n",
            "Epoch 79/100\n",
            "33/33 [==============================] - 2s 65ms/step - loss: 0.0843 - accuracy: 0.9923 - val_loss: 0.1299 - val_accuracy: 0.9900\n",
            "Epoch 80/100\n",
            "33/33 [==============================] - 2s 66ms/step - loss: 0.0791 - accuracy: 0.9942 - val_loss: 0.1623 - val_accuracy: 0.9800\n",
            "Epoch 81/100\n",
            "33/33 [==============================] - 2s 73ms/step - loss: 0.0819 - accuracy: 0.9904 - val_loss: 0.2299 - val_accuracy: 0.9100\n",
            "Epoch 82/100\n",
            "33/33 [==============================] - 3s 75ms/step - loss: 0.0818 - accuracy: 0.9865 - val_loss: 0.1542 - val_accuracy: 0.9900\n",
            "Epoch 83/100\n",
            "33/33 [==============================] - 2s 64ms/step - loss: 0.0858 - accuracy: 0.9788 - val_loss: 0.1961 - val_accuracy: 0.9600\n",
            "Epoch 84/100\n",
            "33/33 [==============================] - 2s 65ms/step - loss: 0.0907 - accuracy: 0.9808 - val_loss: 0.1679 - val_accuracy: 0.9700\n",
            "Epoch 85/100\n",
            "33/33 [==============================] - 2s 65ms/step - loss: 0.0742 - accuracy: 0.9865 - val_loss: 0.1268 - val_accuracy: 0.9900\n",
            "Epoch 86/100\n",
            "33/33 [==============================] - 2s 63ms/step - loss: 0.0683 - accuracy: 0.9904 - val_loss: 0.2025 - val_accuracy: 0.9600\n",
            "Epoch 87/100\n",
            "33/33 [==============================] - 2s 64ms/step - loss: 0.0944 - accuracy: 0.9712 - val_loss: 0.2045 - val_accuracy: 0.9200\n",
            "Epoch 88/100\n",
            "33/33 [==============================] - 2s 65ms/step - loss: 0.0697 - accuracy: 0.9865 - val_loss: 0.1426 - val_accuracy: 0.9800\n",
            "Epoch 89/100\n",
            "33/33 [==============================] - 2s 64ms/step - loss: 0.0741 - accuracy: 0.9827 - val_loss: 0.1016 - val_accuracy: 0.9900\n",
            "Epoch 90/100\n",
            "33/33 [==============================] - 2s 64ms/step - loss: 0.0821 - accuracy: 0.9808 - val_loss: 0.1501 - val_accuracy: 0.9500\n",
            "Epoch 91/100\n",
            "33/33 [==============================] - 2s 64ms/step - loss: 0.0727 - accuracy: 0.9885 - val_loss: 0.1476 - val_accuracy: 0.9900\n",
            "Epoch 92/100\n",
            "33/33 [==============================] - 2s 65ms/step - loss: 0.0684 - accuracy: 0.9923 - val_loss: 0.1140 - val_accuracy: 0.9900\n",
            "Epoch 93/100\n",
            "33/33 [==============================] - 2s 63ms/step - loss: 0.0869 - accuracy: 0.9750 - val_loss: 0.1724 - val_accuracy: 0.9500\n",
            "Epoch 94/100\n",
            "33/33 [==============================] - 2s 66ms/step - loss: 0.0718 - accuracy: 0.9885 - val_loss: 0.1467 - val_accuracy: 0.9700\n",
            "Epoch 95/100\n",
            "33/33 [==============================] - 2s 64ms/step - loss: 0.0637 - accuracy: 0.9885 - val_loss: 0.1503 - val_accuracy: 0.9800\n",
            "Epoch 96/100\n",
            "33/33 [==============================] - 2s 64ms/step - loss: 0.0657 - accuracy: 0.9923 - val_loss: 0.1948 - val_accuracy: 0.9400\n",
            "Epoch 97/100\n",
            "33/33 [==============================] - 2s 64ms/step - loss: 0.0706 - accuracy: 0.9923 - val_loss: 0.1618 - val_accuracy: 0.9300\n",
            "Epoch 98/100\n",
            "33/33 [==============================] - 2s 65ms/step - loss: 0.0577 - accuracy: 0.9904 - val_loss: 0.1319 - val_accuracy: 0.9900\n",
            "Epoch 99/100\n",
            "33/33 [==============================] - 2s 64ms/step - loss: 0.0595 - accuracy: 0.9904 - val_loss: 0.1391 - val_accuracy: 0.9800\n",
            "Epoch 100/100\n",
            "33/33 [==============================] - 2s 65ms/step - loss: 0.0842 - accuracy: 0.9846 - val_loss: 0.1230 - val_accuracy: 0.9800\n"
          ]
        }
      ]
    },
    {
      "cell_type": "code",
      "source": [
        "acc = hist.history['accuracy']\n",
        "val_acc = hist.history['val_accuracy']\n",
        "loss = hist.history['loss']\n",
        "val_loss = hist.history['val_loss']\n",
        "\n",
        "epochs = range(len(acc))\n",
        " \n",
        "plt.plot(epochs, acc)\n",
        "plt.plot(epochs, val_acc)\n",
        "plt.legend([\"Accuracy\",\"val_acc\"])\n",
        "plt.title('Accuracy and Validation Accuracy MobileNet LR 0.001 (Adam)')\n",
        " \n",
        "plt.figure()\n",
        " \n",
        "plt.plot(epochs, loss)\n",
        "plt.plot(epochs, val_loss)\n",
        "plt.legend([\"loss\",\"val_loss\"])\n",
        "plt.title('Loss and Validation Loss MobileNet LR 0.001 (Adam)')"
      ],
      "metadata": {
        "id": "aErWHlmO_4Qn",
        "colab": {
          "base_uri": "https://localhost:8080/",
          "height": 563
        },
        "outputId": "9bc2f0ec-fe57-4f1a-b1e7-37b72fd770d7"
      },
      "execution_count": null,
      "outputs": [
        {
          "output_type": "execute_result",
          "data": {
            "text/plain": [
              "Text(0.5, 1.0, 'Loss and Validation Loss MobileNet LR 0.001 (Adam)')"
            ]
          },
          "metadata": {},
          "execution_count": 13
        },
        {
          "output_type": "display_data",
          "data": {
            "text/plain": [
              "<Figure size 432x288 with 1 Axes>"
            ],
            "image/png": "[encoded data removed]"
          },
          "metadata": {
            "needs_background": "light"
          }
        },
        {
          "output_type": "display_data",
          "data": {
            "text/plain": [
              "<Figure size 432x288 with 1 Axes>"
            ],
            "image/png": "[encoded data removed]"
          },
          "metadata": {
            "needs_background": "light"
          }
        }
      ]
    },
    {
      "cell_type": "code",
      "source": [
        "model.save(\"mobnet.h5\")"
      ],
      "metadata": {
        "id": "nz1Fs6XY_5xe"
      },
      "execution_count": null,
      "outputs": []
    },
    {
      "cell_type": "code",
      "source": [
        "chart = train_batches.class_indices.keys()\n",
        "print(chart)"
      ],
      "metadata": {
        "id": "uAJOb_iKKvrc",
        "colab": {
          "base_uri": "https://localhost:8080/"
        },
        "outputId": "6e149e6c-4492-4175-cb0b-288eedcf5958"
      },
      "execution_count": null,
      "outputs": [
        {
          "output_type": "stream",
          "name": "stdout",
          "text": [
            "dict_keys(['DoubleBottomTrainSet', 'DoubleTopTrainSet', 'HeadandShoulderTrainSet', 'InvertedHeadandShoulderTrainSet'])\n"
          ]
        }
      ]
    },
    {
      "cell_type": "code",
      "source": [
        "test_batches.class_indices"
      ],
      "metadata": {
        "id": "yZCpTM3N_-yb",
        "colab": {
          "base_uri": "https://localhost:8080/"
        },
        "outputId": "99398cb4-6db7-4a47-b5b6-41ebb4e406d1"
      },
      "execution_count": null,
      "outputs": [
        {
          "output_type": "execute_result",
          "data": {
            "text/plain": [
              "{'DoubleBottomTestSet': 0,\n",
              " 'DoubleTopTestSet': 1,\n",
              " 'HeadandShoulderTestSet': 2,\n",
              " 'InvertedHeadandShoulderTestSet': 3}"
            ]
          },
          "metadata": {},
          "execution_count": 16
        }
      ]
    },
    {
      "cell_type": "code",
      "source": [
        "predictions = model.predict(x=test_batches, verbose=0)"
      ],
      "metadata": {
        "id": "9z3AnRWOAAKO"
      },
      "execution_count": null,
      "outputs": []
    },
    {
      "cell_type": "code",
      "source": [
        "y_true=test_batches.classes\n",
        "y_pred=predictions.argmax(axis=1)"
      ],
      "metadata": {
        "id": "SDxn6tnNABva"
      },
      "execution_count": null,
      "outputs": []
    },
    {
      "cell_type": "code",
      "source": [
        "def plot_confusion_matrix(cm, classes,\n",
        "                          normalize=False,\n",
        "                           title='Confusion matrix',\n",
        "                           cmap=plt.cm.Purples):\n",
        "#     \"\"\"\n",
        "#     This function prints and plots the confusion matrix.\n",
        "#     Normalization can be applied by setting `normalize=True`.\n",
        "#     \"\"\"\n",
        "     plt.imshow(cm, interpolation='nearest', cmap=cmap)\n",
        "     plt.title(title)\n",
        "     plt.colorbar()\n",
        "     tick_marks = np.arange(len(classes))\n",
        "     plt.xticks(tick_marks, classes, rotation=45)\n",
        "     plt.yticks(tick_marks, classes)\n",
        "\n",
        "     if normalize:\n",
        "         cm = cm.astype('float') / cm.sum(axis=1)[:, np.newaxis]\n",
        "         print(\"Normalized confusion matrix\")\n",
        "     else:\n",
        "         print('Confusion matrix, without normalization')\n",
        "\n",
        "     print(cm)\n",
        "\n",
        "     thresh = cm.max() / 2.\n",
        "     for i, j in itertools.product(range(cm.shape[0]), range(cm.shape[1])):\n",
        "         plt.text(j, i, cm[i, j],\n",
        "             horizontalalignment=\"center\",\n",
        "             color=\"white\" if cm[i, j] > thresh else \"black\")\n",
        "\n",
        "     plt.tight_layout()\n",
        "     plt.ylabel('Actual label')\n",
        "     plt.xlabel('Predicted label')"
      ],
      "metadata": {
        "id": "oR5bj4mCADCk"
      },
      "execution_count": null,
      "outputs": []
    },
    {
      "cell_type": "code",
      "source": [
        "cm = confusion_matrix(y_true=test_batches.classes, y_pred=predictions.argmax(axis=1))\n",
        "cm_plot_labels = ['Double Bottom','Double Top','HnS','Inverted HnS']\n",
        "plot_confusion_matrix(cm=cm, classes=cm_plot_labels, title='Confusion Matrix MobileNet LR 0.001 (Adam)')"
      ],
      "metadata": {
        "id": "AcvU78dGAFcT",
        "colab": {
          "base_uri": "https://localhost:8080/",
          "height": 402
        },
        "outputId": "275abcb5-c0e7-4787-ccce-59b9b25c3441"
      },
      "execution_count": null,
      "outputs": [
        {
          "output_type": "stream",
          "name": "stdout",
          "text": [
            "Confusion matrix, without normalization\n",
            "[[20  0  0  0]\n",
            " [ 0 20  0  0]\n",
            " [ 0  0 20  0]\n",
            " [ 0  0  0 20]]\n"
          ]
        },
        {
          "output_type": "display_data",
          "data": {
            "text/plain": [
              "<Figure size 432x288 with 2 Axes>"
            ],
            "image/png": "[encoded data removed]"
          },
          "metadata": {
            "needs_background": "light"
          }
        }
      ]
    },
    {
      "cell_type": "code",
      "source": [
        "print (classification_report(y_true, y_pred,target_names=test_batches.class_indices))"
      ],
      "metadata": {
        "id": "wS8nQt5IAG1V",
        "colab": {
          "base_uri": "https://localhost:8080/"
        },
        "outputId": "dc869bd0-76dc-4805-d006-e9ac1384e22f"
      },
      "execution_count": null,
      "outputs": [
        {
          "output_type": "stream",
          "name": "stdout",
          "text": [
            "                                precision    recall  f1-score   support\n",
            "\n",
            "           DoubleBottomTestSet       1.00      1.00      1.00        20\n",
            "              DoubleTopTestSet       1.00      1.00      1.00        20\n",
            "        HeadandShoulderTestSet       1.00      1.00      1.00        20\n",
            "InvertedHeadandShoulderTestSet       1.00      1.00      1.00        20\n",
            "\n",
            "                      accuracy                           1.00        80\n",
            "                     macro avg       1.00      1.00      1.00        80\n",
            "                  weighted avg       1.00      1.00      1.00        80\n",
            "\n"
          ]
        }
      ]
    },
    {
      "cell_type": "code",
      "source": [
        "model.evaluate(test_batches)"
      ],
      "metadata": {
        "id": "zXv9CdVGAIkP",
        "colab": {
          "base_uri": "https://localhost:8080/"
        },
        "outputId": "2c547bef-2359-48dd-c72a-73d37b1623c4"
      },
      "execution_count": null,
      "outputs": [
        {
          "output_type": "stream",
          "name": "stdout",
          "text": [
            "5/5 [==============================] - 0s 52ms/step - loss: 0.0631 - accuracy: 1.0000\n"
          ]
        },
        {
          "output_type": "execute_result",
          "data": {
            "text/plain": [
              "[0.06312597543001175, 1.0]"
            ]
          },
          "metadata": {},
          "execution_count": 22
        }
      ]
    },
    {
      "cell_type": "code",
      "source": [
        "import requests\n",
        "from io import BytesIO"
      ],
      "metadata": {
        "id": "REyhkBvPvV0P"
      },
      "execution_count": null,
      "outputs": []
    },
    {
      "cell_type": "code",
      "source": [
        "# Parameters\n",
        "input_size = (224,224)\n",
        "\n",
        "#define input shape\n",
        "channel = (3,)\n",
        "input_shape = input_size + channel\n",
        "\n",
        "#define labels\n",
        "chart = ['Double Bottom', 'Double Top', 'Head and Shoulder', 'Inverted Head and Shoulder']"
      ],
      "metadata": {
        "id": "_fpY-_jtvY9S"
      },
      "execution_count": null,
      "outputs": []
    },
    {
      "cell_type": "code",
      "source": [
        "def preprocess(img,input_size):\n",
        "    nimg = img.convert('RGB').resize(input_size, resample= 0)\n",
        "    img_arr = (np.array(nimg))/255\n",
        "    return img_arr\n",
        "\n",
        "def reshape(imgs_arr):\n",
        "    return np.stack(imgs_arr, axis=0)"
      ],
      "metadata": {
        "id": "tJR6cetRwDG1"
      },
      "execution_count": null,
      "outputs": []
    },
    {
      "cell_type": "code",
      "source": [
        "from tensorflow.keras.models import load_model\n",
        "\n",
        "# ada 2 cara load model, jika cara pertama berhasil maka bisa lasngusng di lanjutkan ke fungsi prediksi\n",
        "\n",
        "MODEL_PATH = '/content/mobnet.h5'\n",
        "model = load_model(MODEL_PATH,compile=False)"
      ],
      "metadata": {
        "id": "ooin3ZvPwGyy"
      },
      "execution_count": null,
      "outputs": []
    },
    {
      "cell_type": "code",
      "source": [
        "# read image\n",
        "im = Image.open('/content/drive/MyDrive/Dokumentasi revisi/Chartbefore/ihns/ihns48.png')\n",
        "plt.imshow(im)\n",
        "X = preprocess(im,input_size)\n",
        "X = reshape([X])\n",
        "y = model.predict(X)\n",
        "\n",
        "print(chart[np.argmax(y)], np.max(y) )"
      ],
      "metadata": {
        "id": "Xu88QndVwRrI",
        "colab": {
          "base_uri": "https://localhost:8080/",
          "height": 287
        },
        "outputId": "dc55c6c4-55b5-47b1-c696-70ace7df7213"
      },
      "execution_count": null,
      "outputs": [
        {
          "output_type": "stream",
          "name": "stdout",
          "text": [
            "Inverted Head and Shoulder 0.9924515\n"
          ]
        },
        {
          "output_type": "display_data",
          "data": {
            "text/plain": [
              "<Figure size 432x288 with 1 Axes>"
            ],
            "image/png": "[encoded data removed]"
          },
          "metadata": {
            "needs_background": "light"
          }
        }
      ]
    }
  ]
}